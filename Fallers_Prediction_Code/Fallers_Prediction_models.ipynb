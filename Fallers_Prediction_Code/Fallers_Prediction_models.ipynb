{
  "nbformat": 4,
  "nbformat_minor": 0,
  "metadata": {
    "colab": {
      "name": "Fallers_Prediction_models.ipynb",
      "provenance": [],
      "collapsed_sections": [],
      "mount_file_id": "1PeVRLCGU1QY30OKemnz2jpdq3C9og6DK",
      "authorship_tag": "ABX9TyN7H1xE7MYRUDfhU8EsjAEb",
      "include_colab_link": true
    },
    "kernelspec": {
      "name": "python3",
      "display_name": "Python 3"
    },
    "language_info": {
      "name": "python"
    }
  },
  "cells": [
    {
      "cell_type": "markdown",
      "metadata": {
        "id": "view-in-github",
        "colab_type": "text"
      },
      "source": [
        "<a href=\"https://colab.research.google.com/github/spyrosviz/Elderly-Fallers-Prediction/blob/main/Fallers_Prediction_Code/Fallers_Prediction_models.ipynb\" target=\"_parent\"><img src=\"https://colab.research.google.com/assets/colab-badge.svg\" alt=\"Open In Colab\"/></a>"
      ]
    },
    {
      "cell_type": "code",
      "metadata": {
        "id": "bTI-r_b6tlN0",
        "colab": {
          "base_uri": "https://localhost:8080/"
        },
        "outputId": "c2572299-6afb-4b36-c7b5-e0320e7ecc72"
      },
      "source": [
        "# import libraries\n",
        "\n",
        "import pandas as pd\n",
        "import numpy as np\n",
        "import matplotlib.pyplot as plt\n",
        "import seaborn as sns\n",
        "from sklearn.manifold import MDS\n",
        "from statsmodels.stats.outliers_influence import variance_inflation_factor\n",
        "from sklearn.ensemble import RandomForestClassifier\n",
        "from sklearn.ensemble import AdaBoostClassifier\n",
        "from sklearn.tree import DecisionTreeClassifier\n",
        "from sklearn.svm import SVC\n",
        "from sklearn.linear_model import LogisticRegression\n",
        "from sklearn.ensemble import GradientBoostingClassifier\n",
        "from xgboost.sklearn import XGBClassifier\n",
        "from sklearn.model_selection import train_test_split\n",
        "from sklearn.model_selection import GridSearchCV\n",
        "from sklearn.metrics import accuracy_score\n",
        "from sklearn.model_selection import cross_val_score\n",
        "from sklearn.preprocessing import MinMaxScaler"
      ],
      "execution_count": null,
      "outputs": [
        {
          "output_type": "stream",
          "name": "stderr",
          "text": [
            "/usr/local/lib/python3.7/dist-packages/statsmodels/tools/_testing.py:19: FutureWarning: pandas.util.testing is deprecated. Use the functions in the public API at pandas.testing instead.\n",
            "  import pandas.util.testing as tm\n"
          ]
        }
      ]
    },
    {
      "cell_type": "code",
      "metadata": {
        "id": "6-9CYTlsxE3_",
        "colab": {
          "base_uri": "https://localhost:8080/"
        },
        "outputId": "800d6aec-0b34-4e79-f15b-05f35894217d"
      },
      "source": [
        "# Import imputed whole dataset\n",
        "df = pd.read_excel(r\"/content/drive/MyDrive/Fallers_prediction/mixed_imputed_dataset.xlsx\",index_col=0,skiprows=[1,23,40,50,71,72,73])\n",
        "\n",
        "# If year falls greater than 0 set to 1\n",
        "df[\"Year Fall\"] = df[\"Year Fall\"].replace([2,3,4,5,6,7,8,9,10],1)\n",
        "print(df['Year Fall'].value_counts())\n",
        "\n",
        "# Set features and Year Fall as target variable\n",
        "#selected_features = [\"tandem_eyes_open\",'dom_freq_v','s3(velocity)','Gender(1-female, 0-male)','DGI stairs']\n",
        "y = df[\"Year Fall\"].values\n",
        "X = df.drop(['Year Fall','yr almost','6 Months Fall'],axis=1).values\n",
        "#X = df.loc[:,selected_features].values\n",
        "X_scaled = MinMaxScaler().fit_transform(X)\n",
        "#column_names = df.loc[:,selected_features].columns\n",
        "column_names = df.drop(['Year Fall','yr almost','6 Months Fall'],axis=1).columns\n",
        "print(column_names)"
      ],
      "execution_count": null,
      "outputs": [
        {
          "output_type": "stream",
          "name": "stdout",
          "text": [
            "1    33\n",
            "0    29\n",
            "Name: Year Fall, dtype: int64\n",
            "Index(['GCS (Neurotrax)', 'EFI (Exe. Func. Index)', 'Gender(1-female, 0-male)',\n",
            "       'Age', 'GDS', 'ABC Tot %', 'SF-36', 'PASE', 'MMSE', 'MoCa', 'FAB',\n",
            "       'TMTa', 'TMTb', 'TUG', 'FSST', 'BERG', 'DGI', 'DGI stairs',\n",
            "       'base(velocity)', 's3(velocity)', 'feet close eyes open',\n",
            "       'feet close eyes closed', 'tandem_eyes_open', 'tandem_eyes_closed',\n",
            "       'sampen_ap', 'sampen_ml', 'sampen_v', 'dom_freq_ap', 'dom_freq_ampl_ap',\n",
            "       'dom_freq_width_ap', 'dom_freq_slope_ap', 'dom_freq_ml',\n",
            "       'dom_freq_ampl_ml', 'dom_freq_width_ml', 'dom_freq_slope_ml',\n",
            "       'dom_freq_v', 'dom_freq_ampl_v', 'dom_freq_width_v',\n",
            "       'dom_freq_slope_v'],\n",
            "      dtype='object')\n"
          ]
        }
      ]
    },
    {
      "cell_type": "code",
      "metadata": {
        "colab": {
          "base_uri": "https://localhost:8080/"
        },
        "id": "47EdqLdPuE0W",
        "outputId": "c9945726-2b0d-4f03-b3c2-e236db1ee75d"
      },
      "source": [
        "# check for multicollinearity\n",
        "\n",
        "df_vif = pd.DataFrame()\n",
        "df_vif[\"Feature\"] = column_names\n",
        "df_vif[\"VIF\"] = [variance_inflation_factor(X,i) for i in range(X.shape[1])]\n",
        "print(df_vif)"
      ],
      "execution_count": null,
      "outputs": [
        {
          "output_type": "stream",
          "name": "stdout",
          "text": [
            "                     Feature          VIF\n",
            "0            GCS (Neurotrax)   932.657216\n",
            "1     EFI (Exe. Func. Index)   690.741464\n",
            "2   Gender(1-female, 0-male)     8.456460\n",
            "3                        Age   815.726897\n",
            "4                        GDS    11.670312\n",
            "5                  ABC Tot %   122.463616\n",
            "6                      SF-36    88.737161\n",
            "7                       PASE     9.742011\n",
            "8                       MMSE  1048.716515\n",
            "9                       MoCa   307.609156\n",
            "10                       FAB   142.780796\n",
            "11                      TMTa    46.710405\n",
            "12                      TMTb    73.001870\n",
            "13                       TUG   119.029848\n",
            "14                      FSST    56.295008\n",
            "15                      BERG  1464.928425\n",
            "16                       DGI   498.242083\n",
            "17                DGI stairs    72.776998\n",
            "18            base(velocity)   232.286663\n",
            "19              s3(velocity)   125.998555\n",
            "20      feet close eyes open    15.762245\n",
            "21    feet close eyes closed    13.978953\n",
            "22          tandem_eyes_open     7.200427\n",
            "23        tandem_eyes_closed     5.424698\n",
            "24                 sampen_ap   295.920946\n",
            "25                 sampen_ml   158.213164\n",
            "26                  sampen_v   300.728700\n",
            "27               dom_freq_ap    22.050917\n",
            "28          dom_freq_ampl_ap   187.390637\n",
            "29         dom_freq_width_ap   122.944606\n",
            "30         dom_freq_slope_ap   147.355804\n",
            "31               dom_freq_ml    12.870750\n",
            "32          dom_freq_ampl_ml   195.454941\n",
            "33         dom_freq_width_ml    45.501753\n",
            "34         dom_freq_slope_ml   150.470867\n",
            "35                dom_freq_v     6.893733\n",
            "36           dom_freq_ampl_v   120.092252\n",
            "37          dom_freq_width_v   125.898563\n",
            "38          dom_freq_slope_v   117.150145\n"
          ]
        }
      ]
    },
    {
      "cell_type": "code",
      "metadata": {
        "colab": {
          "base_uri": "https://localhost:8080/"
        },
        "id": "k97VhIxOwlQC",
        "outputId": "8818f1d2-69e2-4506-887c-fb842694e0c4"
      },
      "source": [
        "'''Random Forest Classifier'''\n",
        "\n",
        "# create random forest model, fit data and crossvalidate to find best cost complexity parameter\n",
        "\n",
        "rf = RandomForestClassifier()\n",
        "gscv1 = GridSearchCV(rf,{'ccp_alpha':np.arange(0.025,1,0.025)},cv=5)\n",
        "gscv1.fit(X,y)\n",
        "print(\"Best param is {}\".format(gscv1.best_params_))\n",
        "print(\"Best score is {}\".format(gscv1.best_score_))\n",
        "\n",
        "optimal_ccp_alpha = gscv1.best_params_['ccp_alpha']\n",
        "\n",
        "tuned_rf = RandomForestClassifier(ccp_alpha=optimal_ccp_alpha)\n",
        "tuned_rf.fit(X,y)\n",
        "cv1 = cross_val_score(tuned_rf,X,y,cv=5)\n",
        "print(cv1)\n",
        "print(np.mean(cv1))"
      ],
      "execution_count": null,
      "outputs": [
        {
          "output_type": "stream",
          "name": "stdout",
          "text": [
            "Best param is {'ccp_alpha': 0.07500000000000001}\n",
            "Best score is 0.6307692307692306\n",
            "[0.69230769 0.61538462 0.58333333 0.66666667 0.5       ]\n",
            "0.6115384615384615\n"
          ]
        }
      ]
    },
    {
      "cell_type": "code",
      "metadata": {
        "colab": {
          "base_uri": "https://localhost:8080/"
        },
        "id": "LxEluHMDwlHj",
        "outputId": "0bc13487-bcb0-4654-b882-d4e96e0d35c6"
      },
      "source": [
        "'''AdaBoost'''\n",
        "\n",
        "# create adaboost model, fit data and crossvalidate to find best learning rate\n",
        "\n",
        "ab = AdaBoostClassifier()\n",
        "gscv2 = GridSearchCV(ab,{\"learning_rate\":np.arange(0.01,1,0.01)},cv=5)\n",
        "gscv2.fit(X,y)\n",
        "print(\"Best parameter is {}\".format(gscv2.best_params_))\n",
        "print(\"Best score is {}\".format(gscv2.best_score_))\n",
        "\n",
        "optimal_lr = gscv2.best_params_['learning_rate']\n",
        "\n",
        "ab_tuned = AdaBoostClassifier(learning_rate=optimal_lr)\n",
        "cv2 = cross_val_score(ab_tuned,X,y,cv=5)\n",
        "print(cv2)\n",
        "print(np.mean(cv2))"
      ],
      "execution_count": null,
      "outputs": [
        {
          "output_type": "stream",
          "name": "stdout",
          "text": [
            "Best parameter is {'learning_rate': 0.060000000000000005}\n",
            "Best score is 0.632051282051282\n",
            "[0.61538462 0.46153846 0.66666667 0.66666667 0.75      ]\n",
            "0.632051282051282\n"
          ]
        }
      ]
    },
    {
      "cell_type": "code",
      "metadata": {
        "colab": {
          "base_uri": "https://localhost:8080/"
        },
        "id": "xgZ1FGbVyUKZ",
        "outputId": "1a06a6d1-9f97-4338-dc55-e0e0e46d36c2"
      },
      "source": [
        "'''SVM'''\n",
        "\n",
        "param_grid = {'C': [0.1,1, 10, 100], 'gamma': [1,0.1,0.01,0.001],'kernel': ['linear','rbf', 'poly', 'sigmoid']}\n",
        "sv = SVC()\n",
        "gscv3 = GridSearchCV(sv,param_grid,cv=5)\n",
        "gscv3.fit(X_scaled,y)\n",
        "print(\"Best params are {}\".format(gscv3.best_params_))\n",
        "print(\"Best score is {}\".format(gscv3.best_score_))\n",
        "\n",
        "optimal_C = gscv3.best_params_['C']\n",
        "optimal_gamma = gscv3.best_params_['gamma']\n",
        "optimal_kernel = gscv3.best_params_['kernel']\n",
        "\n",
        "tuned_sv = SVC(C=optimal_C, gamma=optimal_gamma, kernel=optimal_kernel)\n",
        "cv3 = cross_val_score(tuned_sv,X_scaled,y,cv=5)\n",
        "print(cv3)\n",
        "print(np.mean(cv3))"
      ],
      "execution_count": null,
      "outputs": [
        {
          "output_type": "stream",
          "name": "stdout",
          "text": [
            "Best params are {'C': 1, 'gamma': 1, 'kernel': 'linear'}\n",
            "Best score is 0.6948717948717948\n",
            "[0.61538462 0.69230769 0.66666667 0.75       0.75      ]\n",
            "0.6948717948717948\n"
          ]
        }
      ]
    },
    {
      "cell_type": "code",
      "metadata": {
        "colab": {
          "base_uri": "https://localhost:8080/"
        },
        "id": "woQUbN5WoPol",
        "outputId": "abf34040-7442-481b-c3ce-1934ca7ff9e3"
      },
      "source": [
        "'''Naive Bayes'''\n",
        "\n",
        "from sklearn.naive_bayes import MultinomialNB\n",
        "\n",
        "nb = MultinomialNB()\n",
        "gscv4 = GridSearchCV(nb,{'alpha':[ 0.0001,0.001,0.01,0.1,1,10,100,1000,10000]},cv=5)\n",
        "gscv4.fit(X,y)\n",
        "print(\"Best parameter is {}\".format(gscv4.best_params_))\n",
        "print(\"Best score is {}\".format(gscv4.best_score_))\n",
        "\n",
        "optimal_alpha = gscv4.best_params_['alpha']\n",
        "\n",
        "tuned_nb = MultinomialNB(alpha=optimal_alpha)\n",
        "cv4 = cross_val_score(tuned_nb,X,y,cv=5)\n",
        "print(cv4)\n",
        "print(np.mean(cv4))"
      ],
      "execution_count": null,
      "outputs": [
        {
          "output_type": "stream",
          "name": "stdout",
          "text": [
            "Best parameter is {'alpha': 0.0001}\n",
            "Best score is 0.5653846153846154\n",
            "[0.38461538 0.69230769 0.58333333 0.58333333 0.58333333]\n",
            "0.5653846153846154\n"
          ]
        }
      ]
    },
    {
      "cell_type": "code",
      "metadata": {
        "colab": {
          "base_uri": "https://localhost:8080/"
        },
        "id": "Xc0AiBNap0vB",
        "outputId": "9e2f5615-4b30-4ed5-cce7-deb8c75c09ad"
      },
      "source": [
        "'''KNN'''\n",
        "\n",
        "from sklearn.neighbors import KNeighborsClassifier\n",
        "\n",
        "knn = KNeighborsClassifier()\n",
        "gscv5 = GridSearchCV(knn,{'n_neighbors':np.arange(1,10,1)},cv=5)\n",
        "gscv5.fit(X_scaled,y)\n",
        "print(\"Best parameter is {}\".format(gscv5.best_params_))\n",
        "print(\"Best score is {}\".format(gscv5.best_score_))\n",
        "\n",
        "optimal_n_neighbors = gscv5.best_params_['n_neighbors']\n",
        "\n",
        "tuned_knn = KNeighborsClassifier(n_neighbors=optimal_n_neighbors)\n",
        "cv5 = cross_val_score(tuned_knn,X,y,cv=5)\n",
        "print(cv5)\n",
        "print(np.mean(cv5))"
      ],
      "execution_count": null,
      "outputs": [
        {
          "output_type": "stream",
          "name": "stdout",
          "text": [
            "Best parameter is {'n_neighbors': 6}\n",
            "Best score is 0.632051282051282\n",
            "[0.69230769 0.53846154 0.58333333 0.5        0.5       ]\n",
            "0.5628205128205128\n"
          ]
        }
      ]
    },
    {
      "cell_type": "code",
      "metadata": {
        "colab": {
          "base_uri": "https://localhost:8080/"
        },
        "id": "velXi6pb5WW9",
        "outputId": "03d3c189-0ec2-4ce3-83f0-d892d8a21f3b"
      },
      "source": [
        "'''Logistic Regression'''\n",
        "\n",
        "import warnings\n",
        "warnings.filterwarnings(\"ignore\")\n",
        "warnings.filterwarnings(action='ignore', category=UserWarning, module='gensim')\n",
        "\n",
        "log_reg = LogisticRegression()\n",
        "param_gr = {'penalty':['l1', 'l2', 'elasticnet', 'none'],'C':[0.001,0.01,0.1,1,10,100]}\n",
        "gscv6 = GridSearchCV(log_reg,param_gr,cv=5)\n",
        "gscv6.fit(X,y)\n",
        "print(\"Best parameter is {}\".format(gscv6.best_params_))\n",
        "print(\"Best score is {}\".format(gscv6.best_score_))\n",
        "\n",
        "opt_C = gscv6.best_params_['C']\n",
        "opt_penalty = gscv6.best_params_['penalty']\n",
        "\n",
        "tuned_log_reg = LogisticRegression(C=opt_C,penalty=opt_penalty)\n",
        "cv6 = cross_val_score(tuned_log_reg,X,y,cv=5)\n",
        "print(cv6)\n",
        "print(np.mean(cv6))"
      ],
      "execution_count": null,
      "outputs": [
        {
          "output_type": "stream",
          "name": "stdout",
          "text": [
            "Best parameter is {'C': 0.001, 'penalty': 'none'}\n",
            "Best score is 0.6128205128205129\n",
            "[0.69230769 0.53846154 0.58333333 0.58333333 0.66666667]\n",
            "0.6128205128205129\n"
          ]
        }
      ]
    },
    {
      "cell_type": "code",
      "metadata": {
        "colab": {
          "base_uri": "https://localhost:8080/"
        },
        "id": "G1OTsLVlOgSh",
        "outputId": "52829ca0-3ed7-4d3c-9870-76b87dd19590"
      },
      "source": [
        "''' Gradient Boosting Classifier'''\n",
        "\n",
        "gb = GradientBoostingClassifier()\n",
        "gscv7 = RandomizedSearchCV(gb,{\"min_impurity_decrease\":np.arange(0.01,1,0.01),'n_estimators':np.arange(10,300,10),'learning_rate':np.arange(0.01,1,0.01)},cv=5)\n",
        "gscv7.fit(X,y)\n",
        "print(\"Best param is {}\".format(gscv7.best_params_))\n",
        "print(\"Best score is {}\".format(gscv7.best_score_))\n",
        "\n",
        "optimal_min_impurity_decrease = gscv7.best_params_['min_impurity_decrease']\n",
        "optimal_n_estimators = gscv7.best_params_['n_estimators']\n",
        "opt_lr = gscv7.best_params_['learning_rate']\n",
        "\n",
        "tuned_gb = GradientBoostingClassifier(min_impurity_decrease=optimal_min_impurity_decrease,n_estimators=optimal_n_estimators,learning_rate=opt_lr)\n",
        "cv7 = cross_val_score(tuned_gb,X,y,cv=5)\n",
        "print(cv7)\n",
        "print(np.mean(cv7))"
      ],
      "execution_count": null,
      "outputs": [
        {
          "output_type": "stream",
          "name": "stdout",
          "text": [
            "Best param is {'n_estimators': 190, 'min_impurity_decrease': 0.8300000000000001, 'learning_rate': 0.9400000000000001}\n",
            "Best score is 0.5474358974358975\n",
            "[0.53846154 0.53846154 0.58333333 0.58333333 0.25      ]\n",
            "0.4987179487179487\n"
          ]
        }
      ]
    },
    {
      "cell_type": "code",
      "metadata": {
        "colab": {
          "base_uri": "https://localhost:8080/"
        },
        "id": "2envdzjhVg34",
        "outputId": "6084172b-5fa1-443d-ad47-d6e89040d43e"
      },
      "source": [
        "'''XGBoost'''\n",
        "\n",
        "xgb = XGBClassifier()\n",
        "gscv8 = RandomizedSearchCV(xgb,{\"gamma\":[0.01,0.1,1,10,50,100,1000],'n_estimators':np.arange(50,1000,50),'learning_rate':np.arange(0.01,1,0.01),'eta':np.arange(0.1,1,0.1),'objective':['binary:logistic','reg:squarederror','multi:softprob','binary:hinge']},cv=5)\n",
        "gscv8.fit(X,y)\n",
        "print(\"Best param is {}\".format(gscv8.best_params_))\n",
        "print(\"Best score is {}\".format(gscv8.best_score_))\n",
        "\n",
        "optimal_gamma = gscv8.best_params_['gamma']\n",
        "optimal_n_est = gscv8.best_params_['n_estimators']\n",
        "optim_lr = gscv8.best_params_['learning_rate']\n",
        "optimal_eta = gscv8.best_params_['eta']\n",
        "optimal_obj = gscv8.best_params_['objective']\n",
        "\n",
        "\n",
        "tuned_xgb = XGBClassifier(gamma=optimal_gamma,n_estimators=optimal_n_est,learning_rate=optim_lr,eta=optimal_eta,objective=optimal_obj)\n",
        "cv8 = cross_val_score(tuned_xgb,X,y,cv=5)\n",
        "print(cv8)\n",
        "print(np.mean(cv8))"
      ],
      "execution_count": null,
      "outputs": [
        {
          "output_type": "stream",
          "name": "stderr",
          "text": [
            "/usr/local/lib/python3.7/dist-packages/sklearn/model_selection/_validation.py:372: FitFailedWarning: \n",
            "10 fits failed out of a total of 50.\n",
            "The score on these train-test partitions for these parameters will be set to nan.\n",
            "If these failures are not expected, you can try to debug them by setting error_score='raise'.\n",
            "\n",
            "Below are more details about the failures:\n",
            "--------------------------------------------------------------------------------\n",
            "10 fits failed with the following error:\n",
            "Traceback (most recent call last):\n",
            "  File \"/usr/local/lib/python3.7/dist-packages/sklearn/model_selection/_validation.py\", line 681, in _fit_and_score\n",
            "    estimator.fit(X_train, y_train, **fit_params)\n",
            "  File \"/usr/local/lib/python3.7/dist-packages/xgboost/sklearn.py\", line 732, in fit\n",
            "    callbacks=callbacks)\n",
            "  File \"/usr/local/lib/python3.7/dist-packages/xgboost/training.py\", line 216, in train\n",
            "    xgb_model=xgb_model, callbacks=callbacks)\n",
            "  File \"/usr/local/lib/python3.7/dist-packages/xgboost/training.py\", line 74, in _train_internal\n",
            "    bst.update(dtrain, i, obj)\n",
            "  File \"/usr/local/lib/python3.7/dist-packages/xgboost/core.py\", line 1109, in update\n",
            "    dtrain.handle))\n",
            "  File \"/usr/local/lib/python3.7/dist-packages/xgboost/core.py\", line 176, in _check_call\n",
            "    raise XGBoostError(py_str(_LIB.XGBGetLastError()))\n",
            "xgboost.core.XGBoostError: value 0 for Parameter num_class should be greater equal to 1\n",
            "\n",
            "  warnings.warn(some_fits_failed_message, FitFailedWarning)\n",
            "/usr/local/lib/python3.7/dist-packages/sklearn/model_selection/_search.py:972: UserWarning: One or more of the test scores are non-finite: [0.53205128        nan 0.50128205 0.53205128        nan 0.48717949\n",
            " 0.53205128 0.47051282 0.53205128 0.53205128]\n",
            "  category=UserWarning,\n"
          ]
        },
        {
          "output_type": "stream",
          "name": "stdout",
          "text": [
            "Best param is {'objective': 'reg:squarederror', 'n_estimators': 950, 'learning_rate': 0.35000000000000003, 'gamma': 100, 'eta': 0.6}\n",
            "Best score is 0.532051282051282\n",
            "[0.53846154 0.53846154 0.5        0.5        0.58333333]\n",
            "0.532051282051282\n"
          ]
        }
      ]
    },
    {
      "cell_type": "code",
      "metadata": {
        "colab": {
          "base_uri": "https://localhost:8080/",
          "height": 1000
        },
        "id": "JGLrOF5hnJnv",
        "outputId": "3253cc6e-fb6f-421d-a84a-9c0a2a74209d"
      },
      "source": [
        "'''Proximity Matrix Clustering and metric MDS'''\n",
        "\n",
        "tuned_rf.fit(X,y)\n",
        "\n",
        "#make proximity matrix to cluster subjects\n",
        "def proximityMatrix(model, X, normalize=True):\n",
        "\n",
        "    terminals = model.apply(X)\n",
        "    nTrees = terminals.shape[1]\n",
        "\n",
        "    a = terminals[:,0]\n",
        "    proxMat = 1*np.equal.outer(a, a)\n",
        "\n",
        "    for i in range(1, nTrees):\n",
        "        a = terminals[:,i]\n",
        "        proxMat += 1*np.equal.outer(a, a)\n",
        "\n",
        "    if normalize:\n",
        "        proxMat = proxMat / nTrees\n",
        "\n",
        "    return proxMat\n",
        "\n",
        "prox_matrix = proximityMatrix(tuned_rf, X, normalize=True)\n",
        "#make a heatmap from proximity matrix to find subjects clustering together\n",
        "plt.figure(figsize=[10,10])\n",
        "sns.heatmap(prox_matrix,square=True,cmap=\"RdYlGn\")\n",
        "plt.show()\n",
        "\n",
        "#make MDS plot with proximity matrix to find subjects clustering together\n",
        "mds = MDS(n_components=2,random_state=0,metric=True)\n",
        "mds_coordinates = mds.fit_transform(prox_matrix)\n",
        "\n",
        "mds_df = pd.DataFrame(mds_coordinates,columns=[\"x\",\"y\"],index=df.index)\n",
        "mds_df = pd.concat([mds_df,pd.Series(df['Year Fall'])],axis=1)\n",
        "plt.rcParams['figure.figsize'] = [7, 7]\n",
        "plt.rc('font', size=14)\n",
        "plt.scatter(mds_df.x, mds_df.y,c=mds_df['Year Fall'])\n",
        "plt.title('Multidimensional scaling graph')\n",
        "for sample in mds_df.index:\n",
        "    plt.annotate(sample,(mds_df.x.loc[sample],mds_df.y.loc[sample]))\n",
        "plt.show()"
      ],
      "execution_count": null,
      "outputs": [
        {
          "output_type": "display_data",
          "data": {
            "image/png": "[encoded data removed]",
            "text/plain": [
              "<Figure size 720x720 with 2 Axes>"
            ]
          },
          "metadata": {
            "needs_background": "light"
          }
        },
        {
          "output_type": "stream",
          "name": "stderr",
          "text": [
            "/usr/local/lib/python3.7/dist-packages/sklearn/manifold/_mds.py:518: UserWarning: The MDS API has changed. ``fit`` now constructs an dissimilarity matrix from data. To use a custom dissimilarity matrix, set ``dissimilarity='precomputed'``.\n",
            "  \"The MDS API has changed. ``fit`` now constructs an\"\n"
          ]
        },
        {
          "output_type": "display_data",
          "data": {
            "image/png": "[encoded data removed]",
            "text/plain": [
              "<Figure size 504x504 with 1 Axes>"
            ]
          },
          "metadata": {
            "needs_background": "light"
          }
        },
        {
          "output_type": "stream",
          "name": "stdout",
          "text": [
            "168.68990552654847\n"
          ]
        }
      ]
    }
  ]
}